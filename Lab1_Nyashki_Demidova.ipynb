{
  "nbformat": 4,
  "nbformat_minor": 0,
  "metadata": {
    "colab": {
      "provenance": []
    },
    "kernelspec": {
      "name": "python3",
      "display_name": "Python 3"
    },
    "language_info": {
      "name": "python"
    }
  },
  "cells": [
    {
      "cell_type": "markdown",
      "source": [
        "#Основы Python"
      ],
      "metadata": {
        "id": "l6tamRMX-98B"
      }
    },
    {
      "cell_type": "markdown",
      "source": [
        "##Задача 1\n",
        "Написать функцию на вход которой подается строка, состоящая из латинских букв.\n",
        "Функция должна вернуть количество гласных букв (a, e, i, o, u) в этой строке. Написать тесты для кода"
      ],
      "metadata": {
        "id": "M-DGa20PaHnu"
      }
    },
    {
      "cell_type": "code",
      "source": [
        "def count_vowels(s: str):\n",
        "  cnt = 0\n",
        "  vowels = 'aeiou'\n",
        "  for i in s:\n",
        "    if i in vowels:\n",
        "      cnt += 1\n",
        "  return cnt\n",
        "\n",
        "def test():\n",
        "    assert count_vowels('aaaatujf') == 5, \"error\"\n",
        "    assert count_vowels('prthnm') == 0, \"error\"\n",
        "\n",
        "test()"
      ],
      "metadata": {
        "id": "XvX8X_JJ6PCb"
      },
      "execution_count": null,
      "outputs": []
    },
    {
      "cell_type": "markdown",
      "source": [
        "## Задача 2\n",
        "Написать функцию на вход, которой подается строка. Функция должна вернуть true, если\n",
        "каждый символ в строке встречается только 1 раз, иначе должна вернуть false. Написать тесты для кода"
      ],
      "metadata": {
        "id": "t2ClV_Y0bbr6"
      }
    },
    {
      "cell_type": "code",
      "source": [
        "def count_letters(s: str):\n",
        "  for i in s:\n",
        "    if s.count(i) > 1:\n",
        "      return False\n",
        "  return True\n",
        "\n",
        "def test():\n",
        "    assert count_letters('aaaatujf') == False, \"error\"\n",
        "    assert count_letters('prthnm') == True, \"error\"\n",
        "\n",
        "test()"
      ],
      "metadata": {
        "id": "FppbECao6VIz"
      },
      "execution_count": null,
      "outputs": []
    },
    {
      "cell_type": "markdown",
      "source": [
        "## Задача 3\n",
        "Написать функцию, которая принимает положительное число и возвращает количество\n",
        "бит равных 1 в этом числе. Написать тесты для кода"
      ],
      "metadata": {
        "id": "udRiIK1cdt6E"
      }
    },
    {
      "cell_type": "code",
      "source": [
        "def count_bit(s):\n",
        "  cnt = 0\n",
        "  while s > 0:\n",
        "    cnt += s % 2\n",
        "    s //= 2\n",
        "  return cnt\n",
        "\n",
        "def test():\n",
        "    assert count_bit(10) == 2, \"error\"\n",
        "    assert count_bit(2) == 1, \"error\"\n",
        "\n",
        "test()"
      ],
      "metadata": {
        "id": "6tkfDJRz6dp_"
      },
      "execution_count": null,
      "outputs": []
    },
    {
      "cell_type": "markdown",
      "source": [
        "## Задача 4\n",
        "Написать функцию, которая принимает положительное число. Функция должна вернуть то,\n",
        "сколько раз необходимо перемножать цифры числа или результат перемножения, чтобы\n",
        "получилось число состоящее из одной цифры.\n",
        "Например, для входного числа:\n",
        "· 39 функция должна вернуть 3, так как 3*9=27 => 2*7=14 => 1*4=4\n",
        "· 4 функция должна вернуть 0, так как число уже состоит из одной цифры\n",
        "· 999 функция должна вернуть 4, так как 9*9*9=729 => 7*2*9=126 => 1*2*6=12 =>\n",
        "1*2=2. Написать тесты для кода"
      ],
      "metadata": {
        "id": "26dDUz-Ae17N"
      }
    },
    {
      "cell_type": "code",
      "source": [
        "def magic(n):\n",
        "    if n < 10:\n",
        "        return 0\n",
        "\n",
        "    cnt = 0\n",
        "    while n >= 10:\n",
        "        mul = 1\n",
        "        for i in str(n):\n",
        "            mul *= int(i)\n",
        "\n",
        "        n = mul\n",
        "        cnt += 1\n",
        "\n",
        "    return cnt\n",
        "\n",
        "def test_persistence():\n",
        "    assert persistence(39) == 3, \"error\"\n",
        "    assert persistence(999) == 4, \"error\""
      ],
      "metadata": {
        "id": "BH1A_Mgi6i4G"
      },
      "execution_count": null,
      "outputs": []
    },
    {
      "cell_type": "markdown",
      "source": [
        "## Задача 5\n",
        "Написать функцию, которая принимает два целочисленных вектора одинаковой длины и\n",
        "возвращает среднеквадратическое отклонение двух векторов. Написать тесты для кода"
      ],
      "metadata": {
        "id": "0nS-kIa8g8vd"
      }
    },
    {
      "cell_type": "code",
      "source": [
        "def mse(pred, true):\n",
        "    return sum([(p - t)**2 for p, t in zip(pred, true)]) / len(pred)\n",
        "\n",
        "def test():\n",
        "    assert mse([1, 2, 3], [1, 2, 3]) == 0.0, \"error\"\n",
        "    assert mse([1, 2, 3], [2, 3, 4]) == 1.0, \"error\"\n",
        "\n",
        "test()"
      ],
      "metadata": {
        "id": "8iphx4LM6xbx"
      },
      "execution_count": null,
      "outputs": []
    },
    {
      "cell_type": "markdown",
      "source": [
        "## Задача 6\n",
        "Написать функцию, принимающая целое положительное число. Функция должна вернуть\n",
        "строку вида “(n1 ** p1)(n2 ** p2)…(nk ** pk)” представляющая разложение числа на простые\n",
        "множители (если pi == 1, то выводить только ni).\n",
        "Например, для числа 86240 функция должна вернуть “(2 ** 5)(5)(7 ** 2)(11)”. Написать тесты для кода"
      ],
      "metadata": {
        "id": "vpIPKL439zkw"
      }
    },
    {
      "cell_type": "code",
      "source": [
        "def prime_factors(n):\n",
        "    fact = {}\n",
        "    div = 2\n",
        "    while n > 1:\n",
        "        while n % div == 0:\n",
        "            fact[div] = fact.get(div, 0) + 1\n",
        "            n //= div\n",
        "        div += 1\n",
        "\n",
        "    res = []\n",
        "    for prime, power in sorted(fact.items()):\n",
        "        if power == 1:\n",
        "            res.append(f\"({prime})\")\n",
        "        else:\n",
        "            res.append(f\"({prime}**{power})\")\n",
        "\n",
        "    return ''.join(res)\n",
        "\n",
        "def test():\n",
        "    assert prime_factors(86240) == '(2**5)(5)(7**2)(11)', \"error\"\n",
        "    assert prime_factors(2) == '(2)', \"error\"\n",
        "\n",
        "test()"
      ],
      "metadata": {
        "id": "pFebmcZk94Jw"
      },
      "execution_count": null,
      "outputs": []
    },
    {
      "cell_type": "markdown",
      "source": [
        "## Задача 7\n",
        "Написать функцию, принимающая целое число n, задающее количество кубиков. Функция\n",
        "должна определить, можно ли из данного кол-ва кубиков построить пирамиду, то есть\n",
        "можно ли представить число n как 1^2+2^2+3^2+…+k^2. Если можно, то функция должна\n",
        "вернуть k, иначе строку “It is impossible”. Написать тесты для кода"
      ],
      "metadata": {
        "id": "ps2s0BudX7A2"
      }
    },
    {
      "cell_type": "code",
      "source": [
        "def pyramid(number):\n",
        "    k = 1\n",
        "    total = 0\n",
        "\n",
        "    while total < number:\n",
        "        total += k ** 2\n",
        "        if total == number:\n",
        "            return k\n",
        "        k += 1\n",
        "\n",
        "    return \"It is impossible\"\n",
        "\n",
        "def test():\n",
        "    assert pyramid(5) == 2, \"error\"\n",
        "    assert pyramid(55) == 5, \"error\"\n",
        "\n",
        "test()"
      ],
      "metadata": {
        "id": "3YPjEXxhX_YT"
      },
      "execution_count": null,
      "outputs": []
    },
    {
      "cell_type": "markdown",
      "source": [
        "## Задача 8\n",
        "Функция принимает на вход положительное число и определяет является ли оно сбалансированным, т.е. сумма цифр до средних равна сумме цифр после. Средними в случае нечетного числа цифр считать одну цифру, в случае четного - две средних. Написать тесты для кода"
      ],
      "metadata": {
        "id": "KeKgmIdAQMEJ"
      }
    },
    {
      "cell_type": "code",
      "source": [
        "def sum_digit(n):\n",
        "    digit = [int(i) for i in str(n)]\n",
        "    if len(digit) % 2 == 0:\n",
        "        return sum(digit[:(len(digit) // 2 - 1)]) == sum(digit[(len(digit) // 2 + 1):])\n",
        "    else:\n",
        "        return sum(digit[:(len(digit) // 2)]) == sum(digit[(len(digit) // 2 + 1):])\n",
        "\n",
        "def test():\n",
        "    assert sum_digit(112311) == True, \"error\"\n",
        "    assert sum_digit(12111) == False, \"error\"\n",
        "\n",
        "test()"
      ],
      "metadata": {
        "id": "gMAAqtqlQrZt"
      },
      "execution_count": null,
      "outputs": []
    },
    {
      "cell_type": "markdown",
      "source": [
        "#Numpy"
      ],
      "metadata": {
        "id": "ewtYbJfd_xuS"
      }
    },
    {
      "cell_type": "markdown",
      "source": [
        "##Импорт библиотек"
      ],
      "metadata": {
        "id": "vC84e9kzyxPy"
      }
    },
    {
      "cell_type": "code",
      "execution_count": 14,
      "metadata": {
        "id": "cgKeNegmQG5S"
      },
      "outputs": [],
      "source": [
        "import numpy as np\n",
        "import matplotlib.pyplot as plt\n",
        "from PIL import Image, ImageDraw\n",
        "from typing import List, Tuple"
      ]
    },
    {
      "cell_type": "markdown",
      "source": [
        "##Задача 1.\n",
        "Дан набор из $p$ матриц размерностью $(n, n)$ и $p$ векторов размерностью $(n, 1)$, найти сумму произведений матриц на векторы. Написать тесты для кода"
      ],
      "metadata": {
        "id": "qFM9uVU2x4Ls"
      }
    },
    {
      "cell_type": "code",
      "source": [
        "def sum_prod(X, V):\n",
        "    '''\n",
        "    X - матрицы (n, n)\n",
        "    V - векторы (n, 1)\n",
        "    Гарантируется, что len(X) == len(V)\n",
        "    '''\n",
        "    res = np.zeros_like(V[0])\n",
        "\n",
        "    for x, v in zip(X, V):\n",
        "      res += x @ v\n",
        "\n",
        "    return res\n",
        "\n",
        "def test():\n",
        "    mat = np.array([[1, 2], [3, 4]])\n",
        "    vec = np.zeros((2, 1))\n",
        "    result = sum_prod([mat], [vec])\n",
        "    assert np.array_equal(result, vec), \"error\"\n",
        "\n",
        "test()"
      ],
      "metadata": {
        "id": "IAbUvEiYyWFF"
      },
      "execution_count": 5,
      "outputs": []
    },
    {
      "cell_type": "markdown",
      "source": [
        "##Задача 2.\n",
        "Дана матрица M, напишите функцию, которая бинаризует матрицу по некоторому threshold (то есть, все значения большие threshold становятся равными 1, иначе 0). Напишите тесты для кода"
      ],
      "metadata": {
        "id": "TKwPG4fIy2w4"
      }
    },
    {
      "cell_type": "code",
      "source": [
        "def binarize(M, threshold=0.5):\n",
        "    return (M >= threshold).astype(int)\n",
        "\n",
        "def test():\n",
        "  m = np.array([[1, 3], [2, 4]])\n",
        "  exp = np.array([[1, 1], [1, 1]])\n",
        "  res = binarize(m)\n",
        "  assert np.array_equal(res, exp),\"error\"\n",
        "\n",
        "test()"
      ],
      "metadata": {
        "id": "KQDNMgsjRNH7"
      },
      "execution_count": 8,
      "outputs": []
    },
    {
      "cell_type": "markdown",
      "source": [
        "##Задача 3.\n",
        "Напишите функцию, которая возвращает уникальные элементы из каждой строки матрицы. Напишите такую же функцию, но для столбцов. Напишите тесты для кода"
      ],
      "metadata": {
        "id": "IY5L-h-7zWhN"
      }
    },
    {
      "cell_type": "code",
      "source": [
        "def unique_rows(mat):\n",
        "    return [np.unique(row) for row in mat]\n",
        "\n",
        "def unique_columns(mat):\n",
        "    return [np.unique(col) for col in mat.T]\n",
        "\n",
        "\n",
        "def test():\n",
        "    test_mat = np.array([\n",
        "        [1, 2, 1],\n",
        "        [3, 3, 3],\n",
        "        [1, 2, 3],\n",
        "        [4, 4, 4]\n",
        "    ])\n",
        "\n",
        "    row_uniques = unique_rows(test_mat)\n",
        "    assert len(row_uniques) == 4, \"Количество строк не совпадает\"\n",
        "    assert np.array_equal(row_uniques[0], np.array([1, 2])), \"Ошибка в первой строке\"\n",
        "    assert np.array_equal(row_uniques[1], np.array([3])), \"Ошибка во второй строке\"\n",
        "    assert np.array_equal(row_uniques[2], np.array([1, 2, 3])), \"Ошибка в третьей строке\"\n",
        "    assert np.array_equal(row_uniques[3], np.array([4])), \"Ошибка в четвертой строке\"\n",
        "\n",
        "    col_uniques = unique_columns(test_mat)\n",
        "    assert len(col_uniques) == 3, \"Количество столбцов не совпадает\"\n",
        "    assert np.array_equal(col_uniques[0], np.array([1, 3, 4])), \"Ошибка в первом столбце\"\n",
        "    assert np.array_equal(col_uniques[1], np.array([2, 3, 4])), \"Ошибка во втором столбце\"\n",
        "    assert np.array_equal(col_uniques[2], np.array([1, 3, 4])), \"Ошибка в третьем столбце\"\n",
        "\n",
        "test()"
      ],
      "metadata": {
        "id": "-8dEZhR0SBC-"
      },
      "execution_count": 9,
      "outputs": []
    },
    {
      "cell_type": "markdown",
      "source": [
        "##Задача 4.\n",
        "Напишите функцию, которая заполняет матрицу с размерами $(m, n)$ случайными числами, распределенными по нормальному закону. Затем считает мат. ожидание и дисперсию для каждого из столбцов и строк, а также строит для каждой строки и столбца гистограмму значений (использовать функцию hist из модуля matplotlib.plot)"
      ],
      "metadata": {
        "id": "roYAlo4Jz-lH"
      }
    },
    {
      "cell_type": "code",
      "source": [
        "def random_matrix(m, n):\n",
        "  matrix = np.random.normal(loc=0, scale=1, size=(m, n))\n",
        "\n",
        "  row_means = np.mean(matrix, axis=1)\n",
        "  row_vars = np.var(matrix, axis=1)\n",
        "\n",
        "  col_means = np.mean(matrix, axis=0)\n",
        "  col_vars = np.var(matrix, axis=0)\n",
        "\n",
        "  plt.figure(figsize=(12, 6))\n",
        "  plt.suptitle('Гистограммы значений по строкам')\n",
        "  for i in range(m):\n",
        "      plt.subplot(m, 1, i+1)\n",
        "      plt.hist(matrix[i, :], bins=15, alpha=0.7, color='blue')\n",
        "      plt.title(f'Строка {i+1}')\n",
        "      plt.ylabel('Частота')\n",
        "  plt.tight_layout()\n",
        "\n",
        "  plt.figure(figsize=(12, 6))\n",
        "  plt.suptitle('Гистограммы значений по столбцам')\n",
        "  for j in range(n):\n",
        "      plt.subplot(n, 1, j+1)\n",
        "      plt.hist(matrix[:, j], bins=15, alpha=0.7, color='green')\n",
        "      plt.title(f'Столбец {j+1}')\n",
        "      plt.ylabel('Частота')\n",
        "  plt.tight_layout()\n",
        "\n",
        "  plt.show()"
      ],
      "metadata": {
        "id": "nZK_71hMSQzv"
      },
      "execution_count": 11,
      "outputs": []
    },
    {
      "cell_type": "markdown",
      "source": [
        "##Задача 5.\n",
        "Напишите функцию, которая заполняет матрицу $(m, n)$ в шахматном порядке заданными числами $a$ и $b$. Напишите тесты для кода"
      ],
      "metadata": {
        "id": "BDyATNdM0dJ2"
      }
    },
    {
      "cell_type": "code",
      "source": [
        "def chess(m, n, a, b):\n",
        "    matrix = np.empty((m, n), dtype=type(a))\n",
        "    for i in range(m):\n",
        "        for j in range(n):\n",
        "            matrix[i, j] = a if (i + j) % 2 == 0 else b\n",
        "    return matrix\n",
        "\n",
        "def test():\n",
        "    expected = np.array([[0, 1], [1, 0]])\n",
        "    result = chess(2, 2, 0, 1)\n",
        "    assert np.array_equal(result, expected), \"error\"\n",
        "\n",
        "test()"
      ],
      "metadata": {
        "id": "RWNJYWQGecS6"
      },
      "execution_count": 10,
      "outputs": []
    },
    {
      "cell_type": "markdown",
      "source": [
        "##Задача 6.\n",
        "Напишите функцию, которая отрисовывает прямоугольник с заданными размерами (a, b) на изображении размера (m, n), цвет фона задайте в схеме RGB, как и цвет прямоугольника. Цвета также должны быть параметрами функции. Напишите аналогичную функцию но для овала с полуосями a и b. Напишите тесты для кода.\n",
        "Примечание: уравнение эллипса (границы овала) можно записать как:\n",
        "<h1>$\\frac{(x-x_0)^2}{a^2}+\\frac{(y-y_0)^2}{b^2}=1$"
      ],
      "metadata": {
        "id": "-ymXLtTN0vB6"
      }
    },
    {
      "cell_type": "code",
      "source": [
        "def draw_rectangle(a, b, m, n, rectangle_color, background_color):\n",
        "    img = Image.new('RGB', (n, m), background_color)\n",
        "    draw = ImageDraw.Draw(img)\n",
        "\n",
        "    x0 = (n - b) // 2\n",
        "    y0 = (m - a) // 2\n",
        "    x1 = x0 + b\n",
        "    y1 = y0 + a\n",
        "\n",
        "    draw.rectangle([x0, y0, x1, y1], fill=rectangle_color)\n",
        "\n",
        "    return img\n",
        "\n",
        "def draw_ellipse(a, b, m, n, ellipse_color, background_color):\n",
        "    img = Image.new('RGB', (n, m), background_color)\n",
        "    draw = ImageDraw.Draw(img)\n",
        "\n",
        "    x0 = (n - 2*b) // 2\n",
        "    y0 = (m - 2*a) // 2\n",
        "    x1 = x0 + 2*b\n",
        "    y1 = y0 + 2*a\n",
        "\n",
        "    draw.ellipse([x0, y0, x1, y1], fill=ellipse_color)\n",
        "\n",
        "    return img\n",
        "\n",
        "def test():\n",
        "  img = draw_rectangle(100, 200, 50, 80, (255, 255, 255), (0, 0, 0))\n",
        "  assert img.size == (200, 100), \"error\""
      ],
      "metadata": {
        "id": "sNfl1t_kfOF4"
      },
      "execution_count": 13,
      "outputs": []
    },
    {
      "cell_type": "markdown",
      "source": [
        "##Задача 7.\n",
        "Дан некий временной ряд. Для данного ряда нужно найти его: математическое ожидание, дисперсию, СКО, найти все локальные максимумы и минимумы (локальный максимум - это точка, которая больше своих соседних точек, а локальный минимум - это точка, которая меньше своих соседей), а также вычислить для данного ряда другой ряд, получаемый методом скользящего среднего с размером окна $p$.\n",
        "Примечание: метод скользящего среднего подразумевает нахождение среднего из подмножетсва ряда размером $p$"
      ],
      "metadata": {
        "id": "S82c38oz244H"
      }
    },
    {
      "cell_type": "code",
      "source": [
        "def analyze_series(data, window=3):\n",
        "    mean = np.mean(data)\n",
        "    variance = np.var(data)\n",
        "    std = np.std(data)\n",
        "\n",
        "    peaks = []\n",
        "    lows = []\n",
        "    for i in range(1, len(data)-1):\n",
        "      if data[i-1] < data[i] > data[i+1]:\n",
        "          peaks.append(i)\n",
        "      elif data[i-1] > data[i] < data[i+1]:\n",
        "          lows.append(i)\n",
        "\n",
        "    moving_mean = []\n",
        "    for i in range(len(data) - window + 1):\n",
        "      moving_avg.append(sum(data[i:i+window]) / window)\n",
        "\n",
        "    return {\n",
        "        'Среднее': round(mean, 2),\n",
        "        'Разброс': round(variance, 2),\n",
        "        'Отклонение': round(std, 2),\n",
        "        'Пики': peaks,\n",
        "        'Впадины': lows,\n",
        "        'Скользящее среднее': [round(x, 2) for x in moving_mean]\n",
        "    }"
      ],
      "metadata": {
        "id": "Zb9mIVge5MMt"
      },
      "execution_count": 16,
      "outputs": []
    },
    {
      "cell_type": "markdown",
      "source": [
        "## Задача 8.\n",
        "Дан некоторый вектор с целочисленными метками классов, напишите функцию, которая выполняет one-hot-encoding для данного вектора\n",
        "One-hot-encoding - представление, в котором на месте метки некоторого класса стоит 1, в остальных позициях стоит 0. Например для вектора [0, 2, 3, 0] one-hot-encoding выглядит как: [[1, 0, 0, 0], [0, 0, 1, 0], [0, 0, 0, 1], [1, 0, 0, 0]]"
      ],
      "metadata": {
        "id": "jPkylmOX5O9n"
      }
    },
    {
      "cell_type": "code",
      "source": [
        "def one_hot_encoding_numpy(labels):\n",
        "  labels = np.array(labels)\n",
        "  num_classes = np.max(labels) + 1\n",
        "  return np.eye(num_classes)[labels]"
      ],
      "metadata": {
        "id": "Y-jlnZvw56lD"
      },
      "execution_count": 18,
      "outputs": []
    }
  ]
}